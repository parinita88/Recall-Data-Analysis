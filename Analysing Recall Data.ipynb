{
 "cells": [
  {
   "cell_type": "code",
   "execution_count": 1,
   "id": "53ee3315",
   "metadata": {},
   "outputs": [],
   "source": [
    "import pandas as pd\n",
    "import numpy as np\n",
    "import matplotlib.pyplot as plt\n",
    "import seaborn as sns"
   ]
  },
  {
   "cell_type": "code",
   "execution_count": 2,
   "id": "21530ff4",
   "metadata": {},
   "outputs": [],
   "source": [
    "# Load the data"
   ]
  },
  {
   "cell_type": "code",
   "execution_count": 3,
   "id": "0dc39c50",
   "metadata": {},
   "outputs": [],
   "source": [
    "df_recall_data = pd.read_csv('./Recalls_Data.csv')"
   ]
  },
  {
   "cell_type": "code",
   "execution_count": 4,
   "id": "a4f48e0f",
   "metadata": {},
   "outputs": [],
   "source": [
    "# Data Profiling and Cleaning"
   ]
  },
  {
   "cell_type": "code",
   "execution_count": 5,
   "id": "ffab14d9",
   "metadata": {},
   "outputs": [
    {
     "data": {
      "text/html": [
       "<div>\n",
       "<style scoped>\n",
       "    .dataframe tbody tr th:only-of-type {\n",
       "        vertical-align: middle;\n",
       "    }\n",
       "\n",
       "    .dataframe tbody tr th {\n",
       "        vertical-align: top;\n",
       "    }\n",
       "\n",
       "    .dataframe thead th {\n",
       "        text-align: right;\n",
       "    }\n",
       "</style>\n",
       "<table border=\"1\" class=\"dataframe\">\n",
       "  <thead>\n",
       "    <tr style=\"text-align: right;\">\n",
       "      <th></th>\n",
       "      <th>Report Received Date</th>\n",
       "      <th>NHTSA ID</th>\n",
       "      <th>Recall Link</th>\n",
       "      <th>Manufacturer</th>\n",
       "      <th>Subject</th>\n",
       "      <th>Component</th>\n",
       "      <th>Mfr Campaign Number</th>\n",
       "      <th>Recall Type</th>\n",
       "      <th>Potentially Affected</th>\n",
       "      <th>Recall Description</th>\n",
       "      <th>Consequence Summary</th>\n",
       "      <th>Corrective Action</th>\n",
       "    </tr>\n",
       "  </thead>\n",
       "  <tbody>\n",
       "    <tr>\n",
       "      <th>count</th>\n",
       "      <td>26592</td>\n",
       "      <td>26592</td>\n",
       "      <td>26592</td>\n",
       "      <td>26592</td>\n",
       "      <td>26592</td>\n",
       "      <td>26592</td>\n",
       "      <td>26547</td>\n",
       "      <td>26592</td>\n",
       "      <td>26550</td>\n",
       "      <td>24191</td>\n",
       "      <td>21704</td>\n",
       "      <td>24204</td>\n",
       "    </tr>\n",
       "    <tr>\n",
       "      <th>unique</th>\n",
       "      <td>9539</td>\n",
       "      <td>26592</td>\n",
       "      <td>26592</td>\n",
       "      <td>2932</td>\n",
       "      <td>15190</td>\n",
       "      <td>40</td>\n",
       "      <td>9832</td>\n",
       "      <td>4</td>\n",
       "      <td>9378</td>\n",
       "      <td>23450</td>\n",
       "      <td>15727</td>\n",
       "      <td>23511</td>\n",
       "    </tr>\n",
       "    <tr>\n",
       "      <th>top</th>\n",
       "      <td>10/17/2013</td>\n",
       "      <td>23V002000</td>\n",
       "      <td>Go to Recall (https://www.nhtsa.gov/recalls?nh...</td>\n",
       "      <td>General Motors, LLC</td>\n",
       "      <td>REFRIGERATOR/DOMETIC</td>\n",
       "      <td>EQUIPMENT</td>\n",
       "      <td>NR (Not Reported)</td>\n",
       "      <td>Vehicle</td>\n",
       "      <td>1</td>\n",
       "      <td>ON CERTAIN TRAILERS EQUIPPED WITH SEALCO SPRIN...</td>\n",
       "      <td>RELEASE OF COOLANT UNDER CERTAIN CONDITIONS CO...</td>\n",
       "      <td>DEALERS WILL EQUIP AIR SYSTEMS WITH A PRESSURE...</td>\n",
       "    </tr>\n",
       "    <tr>\n",
       "      <th>freq</th>\n",
       "      <td>42</td>\n",
       "      <td>1</td>\n",
       "      <td>1</td>\n",
       "      <td>1612</td>\n",
       "      <td>185</td>\n",
       "      <td>3709</td>\n",
       "      <td>16102</td>\n",
       "      <td>23090</td>\n",
       "      <td>240</td>\n",
       "      <td>28</td>\n",
       "      <td>128</td>\n",
       "      <td>18</td>\n",
       "    </tr>\n",
       "  </tbody>\n",
       "</table>\n",
       "</div>"
      ],
      "text/plain": [
       "       Report Received Date   NHTSA ID  \\\n",
       "count                 26592      26592   \n",
       "unique                 9539      26592   \n",
       "top              10/17/2013  23V002000   \n",
       "freq                     42          1   \n",
       "\n",
       "                                              Recall Link  \\\n",
       "count                                               26592   \n",
       "unique                                              26592   \n",
       "top     Go to Recall (https://www.nhtsa.gov/recalls?nh...   \n",
       "freq                                                    1   \n",
       "\n",
       "               Manufacturer               Subject  Component  \\\n",
       "count                 26592                 26592      26592   \n",
       "unique                 2932                 15190         40   \n",
       "top     General Motors, LLC  REFRIGERATOR/DOMETIC  EQUIPMENT   \n",
       "freq                   1612                   185       3709   \n",
       "\n",
       "       Mfr Campaign Number Recall Type Potentially Affected  \\\n",
       "count                26547       26592                26550   \n",
       "unique                9832           4                 9378   \n",
       "top      NR (Not Reported)     Vehicle                    1   \n",
       "freq                 16102       23090                  240   \n",
       "\n",
       "                                       Recall Description  \\\n",
       "count                                               24191   \n",
       "unique                                              23450   \n",
       "top     ON CERTAIN TRAILERS EQUIPPED WITH SEALCO SPRIN...   \n",
       "freq                                                   28   \n",
       "\n",
       "                                      Consequence Summary  \\\n",
       "count                                               21704   \n",
       "unique                                              15727   \n",
       "top     RELEASE OF COOLANT UNDER CERTAIN CONDITIONS CO...   \n",
       "freq                                                  128   \n",
       "\n",
       "                                        Corrective Action  \n",
       "count                                               24204  \n",
       "unique                                              23511  \n",
       "top     DEALERS WILL EQUIP AIR SYSTEMS WITH A PRESSURE...  \n",
       "freq                                                   18  "
      ]
     },
     "execution_count": 5,
     "metadata": {},
     "output_type": "execute_result"
    }
   ],
   "source": [
    "df_recall_data.describe()"
   ]
  },
  {
   "cell_type": "code",
   "execution_count": 6,
   "id": "3a59b3f3",
   "metadata": {},
   "outputs": [
    {
     "name": "stdout",
     "output_type": "stream",
     "text": [
      "<class 'pandas.core.frame.DataFrame'>\n",
      "RangeIndex: 26592 entries, 0 to 26591\n",
      "Data columns (total 12 columns):\n",
      " #   Column                Non-Null Count  Dtype \n",
      "---  ------                --------------  ----- \n",
      " 0   Report Received Date  26592 non-null  object\n",
      " 1   NHTSA ID              26592 non-null  object\n",
      " 2   Recall Link           26592 non-null  object\n",
      " 3   Manufacturer          26592 non-null  object\n",
      " 4   Subject               26592 non-null  object\n",
      " 5   Component             26592 non-null  object\n",
      " 6   Mfr Campaign Number   26547 non-null  object\n",
      " 7   Recall Type           26592 non-null  object\n",
      " 8   Potentially Affected  26550 non-null  object\n",
      " 9   Recall Description    24191 non-null  object\n",
      " 10  Consequence Summary   21704 non-null  object\n",
      " 11  Corrective Action     24204 non-null  object\n",
      "dtypes: object(12)\n",
      "memory usage: 2.4+ MB\n"
     ]
    }
   ],
   "source": [
    "# Check Data Types and Null Values\n",
    "df_recall_data.info()"
   ]
  },
  {
   "cell_type": "code",
   "execution_count": 7,
   "id": "15c911bb",
   "metadata": {},
   "outputs": [],
   "source": [
    "# Changing Column Names (Removing Spaces)\n",
    "df_recall_data.columns = [c.replace(' ', '_') for c in df_recall_data.columns]"
   ]
  },
  {
   "cell_type": "code",
   "execution_count": 8,
   "id": "d9d2ecc9",
   "metadata": {},
   "outputs": [
    {
     "name": "stdout",
     "output_type": "stream",
     "text": [
      "0            341\n",
      "1             74\n",
      "2            263\n",
      "3          1,042\n",
      "4            174\n",
      "          ...   \n",
      "26587     18,572\n",
      "26588        125\n",
      "26589    138,878\n",
      "26590     70,644\n",
      "26591     68,184\n",
      "Name: Potentially_Affected, Length: 26592, dtype: object\n"
     ]
    }
   ],
   "source": [
    "print(df_recall_data['Potentially_Affected'])"
   ]
  },
  {
   "cell_type": "code",
   "execution_count": 9,
   "id": "2ecf050e",
   "metadata": {},
   "outputs": [],
   "source": [
    "# Removing commas and changing datatype for Potentially Affected into numeric\n",
    "df_recall_data['Potentially_Affected'] = df_recall_data['Potentially_Affected'].astype('string').str.replace(',', '').apply(pd.to_numeric)"
   ]
  },
  {
   "cell_type": "code",
   "execution_count": 10,
   "id": "1be64d75",
   "metadata": {},
   "outputs": [],
   "source": [
    "# Changing DataType for Received Date into DateTime\n",
    "df_recall_data['Report_Received_Date'] = df_recall_data['Report_Received_Date'].astype('datetime64[ns]')"
   ]
  },
  {
   "cell_type": "code",
   "execution_count": 11,
   "id": "31458b87",
   "metadata": {},
   "outputs": [
    {
     "data": {
      "text/html": [
       "<div>\n",
       "<style scoped>\n",
       "    .dataframe tbody tr th:only-of-type {\n",
       "        vertical-align: middle;\n",
       "    }\n",
       "\n",
       "    .dataframe tbody tr th {\n",
       "        vertical-align: top;\n",
       "    }\n",
       "\n",
       "    .dataframe thead th {\n",
       "        text-align: right;\n",
       "    }\n",
       "</style>\n",
       "<table border=\"1\" class=\"dataframe\">\n",
       "  <thead>\n",
       "    <tr style=\"text-align: right;\">\n",
       "      <th></th>\n",
       "      <th>Report_Received_Date</th>\n",
       "      <th>NHTSA_ID</th>\n",
       "      <th>Recall_Link</th>\n",
       "      <th>Manufacturer</th>\n",
       "      <th>Subject</th>\n",
       "      <th>Component</th>\n",
       "      <th>Mfr_Campaign_Number</th>\n",
       "      <th>Recall_Type</th>\n",
       "      <th>Potentially_Affected</th>\n",
       "      <th>Recall_Description</th>\n",
       "      <th>Consequence_Summary</th>\n",
       "      <th>Corrective_Action</th>\n",
       "    </tr>\n",
       "  </thead>\n",
       "  <tbody>\n",
       "    <tr>\n",
       "      <th>0</th>\n",
       "      <td>2023-01-06</td>\n",
       "      <td>23V002000</td>\n",
       "      <td>Go to Recall (https://www.nhtsa.gov/recalls?nh...</td>\n",
       "      <td>Triple E Recreational Vehicles</td>\n",
       "      <td>Battery Disconnect Switch May Short</td>\n",
       "      <td>ELECTRICAL SYSTEM</td>\n",
       "      <td>CA#10253-1</td>\n",
       "      <td>Vehicle</td>\n",
       "      <td>341.0</td>\n",
       "      <td>Triple E Recreational Vehicles (Triple E) is r...</td>\n",
       "      <td>An electrical short-circuit can increase the r...</td>\n",
       "      <td>Dealers will install two rubber terminal post ...</td>\n",
       "    </tr>\n",
       "    <tr>\n",
       "      <th>1</th>\n",
       "      <td>2023-01-05</td>\n",
       "      <td>23V001000</td>\n",
       "      <td>Go to Recall (https://www.nhtsa.gov/recalls?nh...</td>\n",
       "      <td>Volvo Car USA, LLC</td>\n",
       "      <td>Steering Wheel May Lock Up</td>\n",
       "      <td>STEERING</td>\n",
       "      <td>R10213</td>\n",
       "      <td>Vehicle</td>\n",
       "      <td>74.0</td>\n",
       "      <td>Volvo Car USA, LLC (Volvo Car) is recalling ce...</td>\n",
       "      <td>A screw inside the gearbox housing can cause t...</td>\n",
       "      <td>Dealers will replace the steering gear, free o...</td>\n",
       "    </tr>\n",
       "    <tr>\n",
       "      <th>2</th>\n",
       "      <td>2023-01-04</td>\n",
       "      <td>23E001000</td>\n",
       "      <td>Go to Recall (https://www.nhtsa.gov/recalls?nh...</td>\n",
       "      <td>Adventurer LP</td>\n",
       "      <td>Propane Leak May Cause Fire</td>\n",
       "      <td>EQUIPMENT</td>\n",
       "      <td>NR (Not Reported)</td>\n",
       "      <td>Equipment</td>\n",
       "      <td>263.0</td>\n",
       "      <td>Adventurer LP (Adventurer) is recalling certai...</td>\n",
       "      <td>A propane leak in the presence of an ignition ...</td>\n",
       "      <td>Dealers will inspect and if necessary, replace...</td>\n",
       "    </tr>\n",
       "    <tr>\n",
       "      <th>3</th>\n",
       "      <td>2022-12-29</td>\n",
       "      <td>22V956000</td>\n",
       "      <td>Go to Recall (https://www.nhtsa.gov/recalls?nh...</td>\n",
       "      <td>Volkswagen Group of America, Inc.</td>\n",
       "      <td>12-Volt Battery Cable May Short Circuit</td>\n",
       "      <td>ELECTRICAL SYSTEM</td>\n",
       "      <td>97HA</td>\n",
       "      <td>Vehicle</td>\n",
       "      <td>1042.0</td>\n",
       "      <td>Volkswagen Group of America, Inc. (Volkswagen)...</td>\n",
       "      <td>A short circuit may cause a loss of drive powe...</td>\n",
       "      <td>Owners are advised to park outside and away fr...</td>\n",
       "    </tr>\n",
       "    <tr>\n",
       "      <th>4</th>\n",
       "      <td>2022-12-29</td>\n",
       "      <td>22C008000</td>\n",
       "      <td>Go to Recall (https://www.nhtsa.gov/recalls?nh...</td>\n",
       "      <td>JD E-Commerce America Limited</td>\n",
       "      <td>Child Seat May Be Improperly Installed/FMVSS 213</td>\n",
       "      <td>CHILD SEAT</td>\n",
       "      <td>NR (Not Reported)</td>\n",
       "      <td>Child Seat</td>\n",
       "      <td>174.0</td>\n",
       "      <td>JD E-Commerce America Limited (Joybuy Express)...</td>\n",
       "      <td>The child seat may be improperly installed, in...</td>\n",
       "      <td>Joybuy Express will provide a refund to purcha...</td>\n",
       "    </tr>\n",
       "  </tbody>\n",
       "</table>\n",
       "</div>"
      ],
      "text/plain": [
       "  Report_Received_Date   NHTSA_ID  \\\n",
       "0           2023-01-06  23V002000   \n",
       "1           2023-01-05  23V001000   \n",
       "2           2023-01-04  23E001000   \n",
       "3           2022-12-29  22V956000   \n",
       "4           2022-12-29  22C008000   \n",
       "\n",
       "                                         Recall_Link  \\\n",
       "0  Go to Recall (https://www.nhtsa.gov/recalls?nh...   \n",
       "1  Go to Recall (https://www.nhtsa.gov/recalls?nh...   \n",
       "2  Go to Recall (https://www.nhtsa.gov/recalls?nh...   \n",
       "3  Go to Recall (https://www.nhtsa.gov/recalls?nh...   \n",
       "4  Go to Recall (https://www.nhtsa.gov/recalls?nh...   \n",
       "\n",
       "                        Manufacturer  \\\n",
       "0     Triple E Recreational Vehicles   \n",
       "1                 Volvo Car USA, LLC   \n",
       "2                      Adventurer LP   \n",
       "3  Volkswagen Group of America, Inc.   \n",
       "4      JD E-Commerce America Limited   \n",
       "\n",
       "                                            Subject          Component  \\\n",
       "0               Battery Disconnect Switch May Short  ELECTRICAL SYSTEM   \n",
       "1                        Steering Wheel May Lock Up           STEERING   \n",
       "2                       Propane Leak May Cause Fire          EQUIPMENT   \n",
       "3           12-Volt Battery Cable May Short Circuit  ELECTRICAL SYSTEM   \n",
       "4  Child Seat May Be Improperly Installed/FMVSS 213         CHILD SEAT   \n",
       "\n",
       "  Mfr_Campaign_Number Recall_Type  Potentially_Affected  \\\n",
       "0          CA#10253-1     Vehicle                 341.0   \n",
       "1              R10213     Vehicle                  74.0   \n",
       "2   NR (Not Reported)   Equipment                 263.0   \n",
       "3                97HA     Vehicle                1042.0   \n",
       "4   NR (Not Reported)  Child Seat                 174.0   \n",
       "\n",
       "                                  Recall_Description  \\\n",
       "0  Triple E Recreational Vehicles (Triple E) is r...   \n",
       "1  Volvo Car USA, LLC (Volvo Car) is recalling ce...   \n",
       "2  Adventurer LP (Adventurer) is recalling certai...   \n",
       "3  Volkswagen Group of America, Inc. (Volkswagen)...   \n",
       "4  JD E-Commerce America Limited (Joybuy Express)...   \n",
       "\n",
       "                                 Consequence_Summary  \\\n",
       "0  An electrical short-circuit can increase the r...   \n",
       "1  A screw inside the gearbox housing can cause t...   \n",
       "2  A propane leak in the presence of an ignition ...   \n",
       "3  A short circuit may cause a loss of drive powe...   \n",
       "4  The child seat may be improperly installed, in...   \n",
       "\n",
       "                                   Corrective_Action  \n",
       "0  Dealers will install two rubber terminal post ...  \n",
       "1  Dealers will replace the steering gear, free o...  \n",
       "2  Dealers will inspect and if necessary, replace...  \n",
       "3  Owners are advised to park outside and away fr...  \n",
       "4  Joybuy Express will provide a refund to purcha...  "
      ]
     },
     "execution_count": 11,
     "metadata": {},
     "output_type": "execute_result"
    }
   ],
   "source": [
    "df_recall_data.head(5)"
   ]
  },
  {
   "cell_type": "code",
   "execution_count": 12,
   "id": "3731f846",
   "metadata": {},
   "outputs": [
    {
     "data": {
      "text/html": [
       "<div>\n",
       "<style scoped>\n",
       "    .dataframe tbody tr th:only-of-type {\n",
       "        vertical-align: middle;\n",
       "    }\n",
       "\n",
       "    .dataframe tbody tr th {\n",
       "        vertical-align: top;\n",
       "    }\n",
       "\n",
       "    .dataframe thead th {\n",
       "        text-align: right;\n",
       "    }\n",
       "</style>\n",
       "<table border=\"1\" class=\"dataframe\">\n",
       "  <thead>\n",
       "    <tr style=\"text-align: right;\">\n",
       "      <th></th>\n",
       "      <th>Report_Received_Date</th>\n",
       "      <th>NHTSA_ID</th>\n",
       "      <th>Recall_Link</th>\n",
       "      <th>Manufacturer</th>\n",
       "      <th>Subject</th>\n",
       "      <th>Component</th>\n",
       "      <th>Mfr_Campaign_Number</th>\n",
       "      <th>Recall_Type</th>\n",
       "      <th>Potentially_Affected</th>\n",
       "      <th>Recall_Description</th>\n",
       "      <th>Consequence_Summary</th>\n",
       "      <th>Corrective_Action</th>\n",
       "    </tr>\n",
       "  </thead>\n",
       "  <tbody>\n",
       "    <tr>\n",
       "      <th>26587</th>\n",
       "      <td>1966-09-29</td>\n",
       "      <td>66V003000</td>\n",
       "      <td>Go to Recall (https://www.nhtsa.gov/recalls?nh...</td>\n",
       "      <td>Honda (American Honda Motor Co.)</td>\n",
       "      <td>POWER TRAIN:TRANSMISSION:STANDARD:MANUAL</td>\n",
       "      <td>POWER TRAIN</td>\n",
       "      <td>NR (Not Reported)</td>\n",
       "      <td>Vehicle</td>\n",
       "      <td>18572.0</td>\n",
       "      <td>NaN</td>\n",
       "      <td>NaN</td>\n",
       "      <td>NaN</td>\n",
       "    </tr>\n",
       "    <tr>\n",
       "      <th>26588</th>\n",
       "      <td>1966-09-19</td>\n",
       "      <td>66V178000</td>\n",
       "      <td>Go to Recall (https://www.nhtsa.gov/recalls?nh...</td>\n",
       "      <td>RENAULT, INCORPORATED</td>\n",
       "      <td>BRAKES:HYDRAULIC:LINES:HOSE:NON-METALLIC</td>\n",
       "      <td>SERVICE BRAKES, HYDRAULIC</td>\n",
       "      <td>NR (Not Reported)</td>\n",
       "      <td>Vehicle</td>\n",
       "      <td>125.0</td>\n",
       "      <td>POSSIBILITY THAT THE FRONT BRAKE HOSE END FITT...</td>\n",
       "      <td>IF SUCH LEAKAGE OCCURS AND IF ENOUGH BRAKE FLU...</td>\n",
       "      <td>(REPLACE FRONT BRAKE HOSES AND SEALS.)</td>\n",
       "    </tr>\n",
       "    <tr>\n",
       "      <th>26589</th>\n",
       "      <td>1966-01-19</td>\n",
       "      <td>66V032001</td>\n",
       "      <td>Go to Recall (https://www.nhtsa.gov/recalls?nh...</td>\n",
       "      <td>General Motors, LLC</td>\n",
       "      <td>STEERING:COLUMN</td>\n",
       "      <td>STEERING</td>\n",
       "      <td>NR (Not Reported)</td>\n",
       "      <td>Vehicle</td>\n",
       "      <td>138878.0</td>\n",
       "      <td>NaN</td>\n",
       "      <td>NaN</td>\n",
       "      <td>NaN</td>\n",
       "    </tr>\n",
       "    <tr>\n",
       "      <th>26590</th>\n",
       "      <td>1966-01-19</td>\n",
       "      <td>66V032003</td>\n",
       "      <td>Go to Recall (https://www.nhtsa.gov/recalls?nh...</td>\n",
       "      <td>General Motors, LLC</td>\n",
       "      <td>STEERING:COLUMN</td>\n",
       "      <td>STEERING</td>\n",
       "      <td>NR (Not Reported)</td>\n",
       "      <td>Vehicle</td>\n",
       "      <td>70644.0</td>\n",
       "      <td>NaN</td>\n",
       "      <td>NaN</td>\n",
       "      <td>NaN</td>\n",
       "    </tr>\n",
       "    <tr>\n",
       "      <th>26591</th>\n",
       "      <td>1966-01-19</td>\n",
       "      <td>66V032004</td>\n",
       "      <td>Go to Recall (https://www.nhtsa.gov/recalls?nh...</td>\n",
       "      <td>General Motors, LLC</td>\n",
       "      <td>STEERING:COLUMN</td>\n",
       "      <td>STEERING</td>\n",
       "      <td>NR (Not Reported)</td>\n",
       "      <td>Vehicle</td>\n",
       "      <td>68184.0</td>\n",
       "      <td>NaN</td>\n",
       "      <td>NaN</td>\n",
       "      <td>NaN</td>\n",
       "    </tr>\n",
       "  </tbody>\n",
       "</table>\n",
       "</div>"
      ],
      "text/plain": [
       "      Report_Received_Date   NHTSA_ID  \\\n",
       "26587           1966-09-29  66V003000   \n",
       "26588           1966-09-19  66V178000   \n",
       "26589           1966-01-19  66V032001   \n",
       "26590           1966-01-19  66V032003   \n",
       "26591           1966-01-19  66V032004   \n",
       "\n",
       "                                             Recall_Link  \\\n",
       "26587  Go to Recall (https://www.nhtsa.gov/recalls?nh...   \n",
       "26588  Go to Recall (https://www.nhtsa.gov/recalls?nh...   \n",
       "26589  Go to Recall (https://www.nhtsa.gov/recalls?nh...   \n",
       "26590  Go to Recall (https://www.nhtsa.gov/recalls?nh...   \n",
       "26591  Go to Recall (https://www.nhtsa.gov/recalls?nh...   \n",
       "\n",
       "                           Manufacturer  \\\n",
       "26587  Honda (American Honda Motor Co.)   \n",
       "26588             RENAULT, INCORPORATED   \n",
       "26589               General Motors, LLC   \n",
       "26590               General Motors, LLC   \n",
       "26591               General Motors, LLC   \n",
       "\n",
       "                                        Subject                  Component  \\\n",
       "26587  POWER TRAIN:TRANSMISSION:STANDARD:MANUAL                POWER TRAIN   \n",
       "26588  BRAKES:HYDRAULIC:LINES:HOSE:NON-METALLIC  SERVICE BRAKES, HYDRAULIC   \n",
       "26589                           STEERING:COLUMN                   STEERING   \n",
       "26590                           STEERING:COLUMN                   STEERING   \n",
       "26591                           STEERING:COLUMN                   STEERING   \n",
       "\n",
       "      Mfr_Campaign_Number Recall_Type  Potentially_Affected  \\\n",
       "26587   NR (Not Reported)     Vehicle               18572.0   \n",
       "26588   NR (Not Reported)     Vehicle                 125.0   \n",
       "26589   NR (Not Reported)     Vehicle              138878.0   \n",
       "26590   NR (Not Reported)     Vehicle               70644.0   \n",
       "26591   NR (Not Reported)     Vehicle               68184.0   \n",
       "\n",
       "                                      Recall_Description  \\\n",
       "26587                                                NaN   \n",
       "26588  POSSIBILITY THAT THE FRONT BRAKE HOSE END FITT...   \n",
       "26589                                                NaN   \n",
       "26590                                                NaN   \n",
       "26591                                                NaN   \n",
       "\n",
       "                                     Consequence_Summary  \\\n",
       "26587                                                NaN   \n",
       "26588  IF SUCH LEAKAGE OCCURS AND IF ENOUGH BRAKE FLU...   \n",
       "26589                                                NaN   \n",
       "26590                                                NaN   \n",
       "26591                                                NaN   \n",
       "\n",
       "                            Corrective_Action  \n",
       "26587                                     NaN  \n",
       "26588  (REPLACE FRONT BRAKE HOSES AND SEALS.)  \n",
       "26589                                     NaN  \n",
       "26590                                     NaN  \n",
       "26591                                     NaN  "
      ]
     },
     "execution_count": 12,
     "metadata": {},
     "output_type": "execute_result"
    }
   ],
   "source": [
    "df_recall_data.tail(5)"
   ]
  },
  {
   "cell_type": "code",
   "execution_count": 13,
   "id": "a1ac576f",
   "metadata": {},
   "outputs": [
    {
     "name": "stdout",
     "output_type": "stream",
     "text": [
      "<class 'pandas.core.frame.DataFrame'>\n",
      "RangeIndex: 26592 entries, 0 to 26591\n",
      "Data columns (total 12 columns):\n",
      " #   Column                Non-Null Count  Dtype         \n",
      "---  ------                --------------  -----         \n",
      " 0   Report_Received_Date  26592 non-null  datetime64[ns]\n",
      " 1   NHTSA_ID              26592 non-null  object        \n",
      " 2   Recall_Link           26592 non-null  object        \n",
      " 3   Manufacturer          26592 non-null  object        \n",
      " 4   Subject               26592 non-null  object        \n",
      " 5   Component             26592 non-null  object        \n",
      " 6   Mfr_Campaign_Number   26547 non-null  object        \n",
      " 7   Recall_Type           26592 non-null  object        \n",
      " 8   Potentially_Affected  26550 non-null  float64       \n",
      " 9   Recall_Description    24191 non-null  object        \n",
      " 10  Consequence_Summary   21704 non-null  object        \n",
      " 11  Corrective_Action     24204 non-null  object        \n",
      "dtypes: datetime64[ns](1), float64(1), object(10)\n",
      "memory usage: 2.4+ MB\n"
     ]
    }
   ],
   "source": [
    "df_recall_data.info()"
   ]
  },
  {
   "cell_type": "code",
   "execution_count": 14,
   "id": "d665909a",
   "metadata": {},
   "outputs": [],
   "source": [
    "# Checking Years in the dataset"
   ]
  },
  {
   "cell_type": "code",
   "execution_count": 15,
   "id": "1f522e0e",
   "metadata": {},
   "outputs": [],
   "source": [
    "df_recall_data['Year'] = df_recall_data['Report_Received_Date'].dt.strftime('%Y')"
   ]
  },
  {
   "cell_type": "code",
   "execution_count": 16,
   "id": "16b24441",
   "metadata": {},
   "outputs": [
    {
     "data": {
      "image/png": "[encoded data removed]",
      "text/plain": [
       "<Figure size 720x360 with 1 Axes>"
      ]
     },
     "metadata": {
      "needs_background": "light"
     },
     "output_type": "display_data"
    }
   ],
   "source": [
    "df_group_by_year = df_recall_data.groupby('Year')['NHTSA_ID'].count()\n",
    "df_group_by_year.plot(kind = 'line', figsize=(10,5), title = 'No of Recalls by Year', \n",
    "                      ylabel = 'No of Recalls', xlabel = 'Year')\n",
    "plt.show()"
   ]
  },
  {
   "cell_type": "code",
   "execution_count": 17,
   "id": "7a180967",
   "metadata": {},
   "outputs": [
    {
     "data": {
      "text/html": [
       "<div>\n",
       "<style scoped>\n",
       "    .dataframe tbody tr th:only-of-type {\n",
       "        vertical-align: middle;\n",
       "    }\n",
       "\n",
       "    .dataframe tbody tr th {\n",
       "        vertical-align: top;\n",
       "    }\n",
       "\n",
       "    .dataframe thead th {\n",
       "        text-align: right;\n",
       "    }\n",
       "</style>\n",
       "<table border=\"1\" class=\"dataframe\">\n",
       "  <thead>\n",
       "    <tr style=\"text-align: right;\">\n",
       "      <th></th>\n",
       "      <th>Report_Received_Date</th>\n",
       "      <th>NHTSA_ID</th>\n",
       "      <th>Recall_Link</th>\n",
       "      <th>Manufacturer</th>\n",
       "      <th>Subject</th>\n",
       "      <th>Component</th>\n",
       "      <th>Mfr_Campaign_Number</th>\n",
       "      <th>Recall_Type</th>\n",
       "      <th>Potentially_Affected</th>\n",
       "      <th>Recall_Description</th>\n",
       "      <th>Consequence_Summary</th>\n",
       "      <th>Corrective_Action</th>\n",
       "      <th>Year</th>\n",
       "    </tr>\n",
       "  </thead>\n",
       "  <tbody>\n",
       "    <tr>\n",
       "      <th>0</th>\n",
       "      <td>2023-01-06</td>\n",
       "      <td>23V002000</td>\n",
       "      <td>Go to Recall (https://www.nhtsa.gov/recalls?nh...</td>\n",
       "      <td>Triple E Recreational Vehicles</td>\n",
       "      <td>Battery Disconnect Switch May Short</td>\n",
       "      <td>ELECTRICAL SYSTEM</td>\n",
       "      <td>CA#10253-1</td>\n",
       "      <td>Vehicle</td>\n",
       "      <td>341.0</td>\n",
       "      <td>Triple E Recreational Vehicles (Triple E) is r...</td>\n",
       "      <td>An electrical short-circuit can increase the r...</td>\n",
       "      <td>Dealers will install two rubber terminal post ...</td>\n",
       "      <td>2023</td>\n",
       "    </tr>\n",
       "    <tr>\n",
       "      <th>1</th>\n",
       "      <td>2023-01-05</td>\n",
       "      <td>23V001000</td>\n",
       "      <td>Go to Recall (https://www.nhtsa.gov/recalls?nh...</td>\n",
       "      <td>Volvo Car USA, LLC</td>\n",
       "      <td>Steering Wheel May Lock Up</td>\n",
       "      <td>STEERING</td>\n",
       "      <td>R10213</td>\n",
       "      <td>Vehicle</td>\n",
       "      <td>74.0</td>\n",
       "      <td>Volvo Car USA, LLC (Volvo Car) is recalling ce...</td>\n",
       "      <td>A screw inside the gearbox housing can cause t...</td>\n",
       "      <td>Dealers will replace the steering gear, free o...</td>\n",
       "      <td>2023</td>\n",
       "    </tr>\n",
       "    <tr>\n",
       "      <th>2</th>\n",
       "      <td>2023-01-04</td>\n",
       "      <td>23E001000</td>\n",
       "      <td>Go to Recall (https://www.nhtsa.gov/recalls?nh...</td>\n",
       "      <td>Adventurer LP</td>\n",
       "      <td>Propane Leak May Cause Fire</td>\n",
       "      <td>EQUIPMENT</td>\n",
       "      <td>NR (Not Reported)</td>\n",
       "      <td>Equipment</td>\n",
       "      <td>263.0</td>\n",
       "      <td>Adventurer LP (Adventurer) is recalling certai...</td>\n",
       "      <td>A propane leak in the presence of an ignition ...</td>\n",
       "      <td>Dealers will inspect and if necessary, replace...</td>\n",
       "      <td>2023</td>\n",
       "    </tr>\n",
       "  </tbody>\n",
       "</table>\n",
       "</div>"
      ],
      "text/plain": [
       "  Report_Received_Date   NHTSA_ID  \\\n",
       "0           2023-01-06  23V002000   \n",
       "1           2023-01-05  23V001000   \n",
       "2           2023-01-04  23E001000   \n",
       "\n",
       "                                         Recall_Link  \\\n",
       "0  Go to Recall (https://www.nhtsa.gov/recalls?nh...   \n",
       "1  Go to Recall (https://www.nhtsa.gov/recalls?nh...   \n",
       "2  Go to Recall (https://www.nhtsa.gov/recalls?nh...   \n",
       "\n",
       "                     Manufacturer                              Subject  \\\n",
       "0  Triple E Recreational Vehicles  Battery Disconnect Switch May Short   \n",
       "1              Volvo Car USA, LLC           Steering Wheel May Lock Up   \n",
       "2                   Adventurer LP          Propane Leak May Cause Fire   \n",
       "\n",
       "           Component Mfr_Campaign_Number Recall_Type  Potentially_Affected  \\\n",
       "0  ELECTRICAL SYSTEM          CA#10253-1     Vehicle                 341.0   \n",
       "1           STEERING              R10213     Vehicle                  74.0   \n",
       "2          EQUIPMENT   NR (Not Reported)   Equipment                 263.0   \n",
       "\n",
       "                                  Recall_Description  \\\n",
       "0  Triple E Recreational Vehicles (Triple E) is r...   \n",
       "1  Volvo Car USA, LLC (Volvo Car) is recalling ce...   \n",
       "2  Adventurer LP (Adventurer) is recalling certai...   \n",
       "\n",
       "                                 Consequence_Summary  \\\n",
       "0  An electrical short-circuit can increase the r...   \n",
       "1  A screw inside the gearbox housing can cause t...   \n",
       "2  A propane leak in the presence of an ignition ...   \n",
       "\n",
       "                                   Corrective_Action  Year  \n",
       "0  Dealers will install two rubber terminal post ...  2023  \n",
       "1  Dealers will replace the steering gear, free o...  2023  \n",
       "2  Dealers will inspect and if necessary, replace...  2023  "
      ]
     },
     "execution_count": 17,
     "metadata": {},
     "output_type": "execute_result"
    }
   ],
   "source": [
    "df_recall_data[df_recall_data['Year'] == '2023']"
   ]
  },
  {
   "cell_type": "code",
   "execution_count": 18,
   "id": "59419b47",
   "metadata": {},
   "outputs": [
    {
     "data": {
      "text/html": [
       "<div>\n",
       "<style scoped>\n",
       "    .dataframe tbody tr th:only-of-type {\n",
       "        vertical-align: middle;\n",
       "    }\n",
       "\n",
       "    .dataframe tbody tr th {\n",
       "        vertical-align: top;\n",
       "    }\n",
       "\n",
       "    .dataframe thead th {\n",
       "        text-align: right;\n",
       "    }\n",
       "</style>\n",
       "<table border=\"1\" class=\"dataframe\">\n",
       "  <thead>\n",
       "    <tr style=\"text-align: right;\">\n",
       "      <th></th>\n",
       "      <th>Report_Received_Date</th>\n",
       "      <th>NHTSA_ID</th>\n",
       "      <th>Recall_Link</th>\n",
       "      <th>Manufacturer</th>\n",
       "      <th>Subject</th>\n",
       "      <th>Component</th>\n",
       "      <th>Mfr_Campaign_Number</th>\n",
       "      <th>Recall_Type</th>\n",
       "      <th>Potentially_Affected</th>\n",
       "      <th>Recall_Description</th>\n",
       "      <th>Consequence_Summary</th>\n",
       "      <th>Corrective_Action</th>\n",
       "      <th>Year</th>\n",
       "    </tr>\n",
       "  </thead>\n",
       "  <tbody>\n",
       "    <tr>\n",
       "      <th>3</th>\n",
       "      <td>2022-12-29</td>\n",
       "      <td>22V956000</td>\n",
       "      <td>Go to Recall (https://www.nhtsa.gov/recalls?nh...</td>\n",
       "      <td>Volkswagen Group of America, Inc.</td>\n",
       "      <td>12-Volt Battery Cable May Short Circuit</td>\n",
       "      <td>ELECTRICAL SYSTEM</td>\n",
       "      <td>97HA</td>\n",
       "      <td>Vehicle</td>\n",
       "      <td>1042.0</td>\n",
       "      <td>Volkswagen Group of America, Inc. (Volkswagen)...</td>\n",
       "      <td>A short circuit may cause a loss of drive powe...</td>\n",
       "      <td>Owners are advised to park outside and away fr...</td>\n",
       "      <td>2022</td>\n",
       "    </tr>\n",
       "    <tr>\n",
       "      <th>4</th>\n",
       "      <td>2022-12-29</td>\n",
       "      <td>22C008000</td>\n",
       "      <td>Go to Recall (https://www.nhtsa.gov/recalls?nh...</td>\n",
       "      <td>JD E-Commerce America Limited</td>\n",
       "      <td>Child Seat May Be Improperly Installed/FMVSS 213</td>\n",
       "      <td>CHILD SEAT</td>\n",
       "      <td>NR (Not Reported)</td>\n",
       "      <td>Child Seat</td>\n",
       "      <td>174.0</td>\n",
       "      <td>JD E-Commerce America Limited (Joybuy Express)...</td>\n",
       "      <td>The child seat may be improperly installed, in...</td>\n",
       "      <td>Joybuy Express will provide a refund to purcha...</td>\n",
       "      <td>2022</td>\n",
       "    </tr>\n",
       "    <tr>\n",
       "      <th>5</th>\n",
       "      <td>2022-12-29</td>\n",
       "      <td>22V957000</td>\n",
       "      <td>Go to Recall (https://www.nhtsa.gov/recalls?nh...</td>\n",
       "      <td>Indian Motorcycle Company</td>\n",
       "      <td>Kickstand May Not Retract Properly/FMVSS 123</td>\n",
       "      <td>STRUCTURE</td>\n",
       "      <td>I-23-01</td>\n",
       "      <td>Vehicle</td>\n",
       "      <td>4653.0</td>\n",
       "      <td>Indian Motorcycle Company (Indian) is recallin...</td>\n",
       "      <td>A kickstand that does not properly retract can...</td>\n",
       "      <td>The remedy is currently under development.  Ow...</td>\n",
       "      <td>2022</td>\n",
       "    </tr>\n",
       "    <tr>\n",
       "      <th>6</th>\n",
       "      <td>2022-12-29</td>\n",
       "      <td>22E102000</td>\n",
       "      <td>Go to Recall (https://www.nhtsa.gov/recalls?nh...</td>\n",
       "      <td>Hendrickson USA. L.L.C.</td>\n",
       "      <td>Loose Brake Pad Retaining Clip May Damage Tire</td>\n",
       "      <td>SERVICE BRAKES, AIR</td>\n",
       "      <td>NR (Not Reported)</td>\n",
       "      <td>Equipment</td>\n",
       "      <td>12.0</td>\n",
       "      <td>Hendrickson USA, L.L.C. (Hendrickson) is recal...</td>\n",
       "      <td>A retaining clip or bracket that detaches can ...</td>\n",
       "      <td>All affected VanTraxx assemblies have been ins...</td>\n",
       "      <td>2022</td>\n",
       "    </tr>\n",
       "    <tr>\n",
       "      <th>7</th>\n",
       "      <td>2022-12-23</td>\n",
       "      <td>22V952000</td>\n",
       "      <td>Go to Recall (https://www.nhtsa.gov/recalls?nh...</td>\n",
       "      <td>Lion Electric Company</td>\n",
       "      <td>Adjusting Ring Fasteners Not Tightened Properly</td>\n",
       "      <td>SUSPENSION</td>\n",
       "      <td>NR (Not Reported)</td>\n",
       "      <td>Vehicle</td>\n",
       "      <td>13.0</td>\n",
       "      <td>Lion Electric Company (Lion) is recalling cert...</td>\n",
       "      <td>The suspension can separate from the frame, ca...</td>\n",
       "      <td>Lion will inspect and tighten the fasteners as...</td>\n",
       "      <td>2022</td>\n",
       "    </tr>\n",
       "    <tr>\n",
       "      <th>...</th>\n",
       "      <td>...</td>\n",
       "      <td>...</td>\n",
       "      <td>...</td>\n",
       "      <td>...</td>\n",
       "      <td>...</td>\n",
       "      <td>...</td>\n",
       "      <td>...</td>\n",
       "      <td>...</td>\n",
       "      <td>...</td>\n",
       "      <td>...</td>\n",
       "      <td>...</td>\n",
       "      <td>...</td>\n",
       "      <td>...</td>\n",
       "    </tr>\n",
       "    <tr>\n",
       "      <th>1048</th>\n",
       "      <td>2022-01-07</td>\n",
       "      <td>22V004000</td>\n",
       "      <td>Go to Recall (https://www.nhtsa.gov/recalls?nh...</td>\n",
       "      <td>Forest River, Inc.</td>\n",
       "      <td>Tire Belt Separation</td>\n",
       "      <td>TIRES</td>\n",
       "      <td>51-1449</td>\n",
       "      <td>Vehicle</td>\n",
       "      <td>1164.0</td>\n",
       "      <td>Forest River, Inc. (Forest River) is recalling...</td>\n",
       "      <td>Belt separation could lead to loss of vehicle ...</td>\n",
       "      <td>Dealers will inspect the tire DOT codes, and r...</td>\n",
       "      <td>2022</td>\n",
       "    </tr>\n",
       "    <tr>\n",
       "      <th>1049</th>\n",
       "      <td>2022-01-07</td>\n",
       "      <td>22V005000</td>\n",
       "      <td>Go to Recall (https://www.nhtsa.gov/recalls?nh...</td>\n",
       "      <td>Lakota Corporation</td>\n",
       "      <td>Tire Belt Separation</td>\n",
       "      <td>TIRES</td>\n",
       "      <td>NR (Not Reported)</td>\n",
       "      <td>Vehicle</td>\n",
       "      <td>100.0</td>\n",
       "      <td>Lakota Corporation (Lakota) is recalling certa...</td>\n",
       "      <td>Belt separation could lead to loss of vehicle ...</td>\n",
       "      <td>Dealers will replace the tires, free of charge...</td>\n",
       "      <td>2022</td>\n",
       "    </tr>\n",
       "    <tr>\n",
       "      <th>1050</th>\n",
       "      <td>2022-01-07</td>\n",
       "      <td>22V003000</td>\n",
       "      <td>Go to Recall (https://www.nhtsa.gov/recalls?nh...</td>\n",
       "      <td>Forest River, Inc.</td>\n",
       "      <td>Unsealed Cooktop May Cause Burner Flames to In...</td>\n",
       "      <td>EQUIPMENT</td>\n",
       "      <td>203-1454</td>\n",
       "      <td>Vehicle</td>\n",
       "      <td>1097.0</td>\n",
       "      <td>Forest River, Inc. (Forest River) is recalling...</td>\n",
       "      <td>An inverted flame can increase the risk of a f...</td>\n",
       "      <td>Dealers will seal the furnace from the cooktop...</td>\n",
       "      <td>2022</td>\n",
       "    </tr>\n",
       "    <tr>\n",
       "      <th>1051</th>\n",
       "      <td>2022-01-04</td>\n",
       "      <td>22V002000</td>\n",
       "      <td>Go to Recall (https://www.nhtsa.gov/recalls?nh...</td>\n",
       "      <td>LGS Industries, Inc.</td>\n",
       "      <td>Rear Door Winch Cable May Break</td>\n",
       "      <td>STRUCTURE</td>\n",
       "      <td>NR (Not Reported)</td>\n",
       "      <td>Vehicle</td>\n",
       "      <td>9.0</td>\n",
       "      <td>LGS Industries, Inc. (LGS) is recalling certai...</td>\n",
       "      <td>A broken electric winch cable may allow the re...</td>\n",
       "      <td>LGS will install a BLOCSTOP fall arrestor, fre...</td>\n",
       "      <td>2022</td>\n",
       "    </tr>\n",
       "    <tr>\n",
       "      <th>1052</th>\n",
       "      <td>2022-01-01</td>\n",
       "      <td>22V001000</td>\n",
       "      <td>Go to Recall (https://www.nhtsa.gov/recalls?nh...</td>\n",
       "      <td>Rosenbauer America</td>\n",
       "      <td>Fuel Tubes May Crack and Leak Fuel</td>\n",
       "      <td>FUEL SYSTEM, DIESEL</td>\n",
       "      <td>NR (Not Reported)</td>\n",
       "      <td>Vehicle</td>\n",
       "      <td>116.0</td>\n",
       "      <td>Rosenbauer America (Rosenbauer) is recalling c...</td>\n",
       "      <td>A high-pressure fuel leak in the presence of a...</td>\n",
       "      <td>Cummins dealers will install vibration isolato...</td>\n",
       "      <td>2022</td>\n",
       "    </tr>\n",
       "  </tbody>\n",
       "</table>\n",
       "<p>1050 rows × 13 columns</p>\n",
       "</div>"
      ],
      "text/plain": [
       "     Report_Received_Date   NHTSA_ID  \\\n",
       "3              2022-12-29  22V956000   \n",
       "4              2022-12-29  22C008000   \n",
       "5              2022-12-29  22V957000   \n",
       "6              2022-12-29  22E102000   \n",
       "7              2022-12-23  22V952000   \n",
       "...                   ...        ...   \n",
       "1048           2022-01-07  22V004000   \n",
       "1049           2022-01-07  22V005000   \n",
       "1050           2022-01-07  22V003000   \n",
       "1051           2022-01-04  22V002000   \n",
       "1052           2022-01-01  22V001000   \n",
       "\n",
       "                                            Recall_Link  \\\n",
       "3     Go to Recall (https://www.nhtsa.gov/recalls?nh...   \n",
       "4     Go to Recall (https://www.nhtsa.gov/recalls?nh...   \n",
       "5     Go to Recall (https://www.nhtsa.gov/recalls?nh...   \n",
       "6     Go to Recall (https://www.nhtsa.gov/recalls?nh...   \n",
       "7     Go to Recall (https://www.nhtsa.gov/recalls?nh...   \n",
       "...                                                 ...   \n",
       "1048  Go to Recall (https://www.nhtsa.gov/recalls?nh...   \n",
       "1049  Go to Recall (https://www.nhtsa.gov/recalls?nh...   \n",
       "1050  Go to Recall (https://www.nhtsa.gov/recalls?nh...   \n",
       "1051  Go to Recall (https://www.nhtsa.gov/recalls?nh...   \n",
       "1052  Go to Recall (https://www.nhtsa.gov/recalls?nh...   \n",
       "\n",
       "                           Manufacturer  \\\n",
       "3     Volkswagen Group of America, Inc.   \n",
       "4         JD E-Commerce America Limited   \n",
       "5             Indian Motorcycle Company   \n",
       "6               Hendrickson USA. L.L.C.   \n",
       "7                 Lion Electric Company   \n",
       "...                                 ...   \n",
       "1048                 Forest River, Inc.   \n",
       "1049                 Lakota Corporation   \n",
       "1050                 Forest River, Inc.   \n",
       "1051               LGS Industries, Inc.   \n",
       "1052                 Rosenbauer America   \n",
       "\n",
       "                                                Subject            Component  \\\n",
       "3               12-Volt Battery Cable May Short Circuit    ELECTRICAL SYSTEM   \n",
       "4      Child Seat May Be Improperly Installed/FMVSS 213           CHILD SEAT   \n",
       "5          Kickstand May Not Retract Properly/FMVSS 123            STRUCTURE   \n",
       "6        Loose Brake Pad Retaining Clip May Damage Tire  SERVICE BRAKES, AIR   \n",
       "7       Adjusting Ring Fasteners Not Tightened Properly           SUSPENSION   \n",
       "...                                                 ...                  ...   \n",
       "1048                               Tire Belt Separation                TIRES   \n",
       "1049                               Tire Belt Separation                TIRES   \n",
       "1050  Unsealed Cooktop May Cause Burner Flames to In...            EQUIPMENT   \n",
       "1051                    Rear Door Winch Cable May Break            STRUCTURE   \n",
       "1052                 Fuel Tubes May Crack and Leak Fuel  FUEL SYSTEM, DIESEL   \n",
       "\n",
       "     Mfr_Campaign_Number Recall_Type  Potentially_Affected  \\\n",
       "3                   97HA     Vehicle                1042.0   \n",
       "4      NR (Not Reported)  Child Seat                 174.0   \n",
       "5                I-23-01     Vehicle                4653.0   \n",
       "6      NR (Not Reported)   Equipment                  12.0   \n",
       "7      NR (Not Reported)     Vehicle                  13.0   \n",
       "...                  ...         ...                   ...   \n",
       "1048             51-1449     Vehicle                1164.0   \n",
       "1049   NR (Not Reported)     Vehicle                 100.0   \n",
       "1050            203-1454     Vehicle                1097.0   \n",
       "1051   NR (Not Reported)     Vehicle                   9.0   \n",
       "1052   NR (Not Reported)     Vehicle                 116.0   \n",
       "\n",
       "                                     Recall_Description  \\\n",
       "3     Volkswagen Group of America, Inc. (Volkswagen)...   \n",
       "4     JD E-Commerce America Limited (Joybuy Express)...   \n",
       "5     Indian Motorcycle Company (Indian) is recallin...   \n",
       "6     Hendrickson USA, L.L.C. (Hendrickson) is recal...   \n",
       "7     Lion Electric Company (Lion) is recalling cert...   \n",
       "...                                                 ...   \n",
       "1048  Forest River, Inc. (Forest River) is recalling...   \n",
       "1049  Lakota Corporation (Lakota) is recalling certa...   \n",
       "1050  Forest River, Inc. (Forest River) is recalling...   \n",
       "1051  LGS Industries, Inc. (LGS) is recalling certai...   \n",
       "1052  Rosenbauer America (Rosenbauer) is recalling c...   \n",
       "\n",
       "                                    Consequence_Summary  \\\n",
       "3     A short circuit may cause a loss of drive powe...   \n",
       "4     The child seat may be improperly installed, in...   \n",
       "5     A kickstand that does not properly retract can...   \n",
       "6     A retaining clip or bracket that detaches can ...   \n",
       "7     The suspension can separate from the frame, ca...   \n",
       "...                                                 ...   \n",
       "1048  Belt separation could lead to loss of vehicle ...   \n",
       "1049  Belt separation could lead to loss of vehicle ...   \n",
       "1050  An inverted flame can increase the risk of a f...   \n",
       "1051  A broken electric winch cable may allow the re...   \n",
       "1052  A high-pressure fuel leak in the presence of a...   \n",
       "\n",
       "                                      Corrective_Action  Year  \n",
       "3     Owners are advised to park outside and away fr...  2022  \n",
       "4     Joybuy Express will provide a refund to purcha...  2022  \n",
       "5     The remedy is currently under development.  Ow...  2022  \n",
       "6     All affected VanTraxx assemblies have been ins...  2022  \n",
       "7     Lion will inspect and tighten the fasteners as...  2022  \n",
       "...                                                 ...   ...  \n",
       "1048  Dealers will inspect the tire DOT codes, and r...  2022  \n",
       "1049  Dealers will replace the tires, free of charge...  2022  \n",
       "1050  Dealers will seal the furnace from the cooktop...  2022  \n",
       "1051  LGS will install a BLOCSTOP fall arrestor, fre...  2022  \n",
       "1052  Cummins dealers will install vibration isolato...  2022  \n",
       "\n",
       "[1050 rows x 13 columns]"
      ]
     },
     "execution_count": 18,
     "metadata": {},
     "output_type": "execute_result"
    }
   ],
   "source": [
    "# filter where year = 2022\n",
    "df_recall_data.query(\"Year == '2022' \")\n",
    "# anothery way : df_recall_data[df_recall_data['Year'] == '2022']"
   ]
  },
  {
   "cell_type": "code",
   "execution_count": 19,
   "id": "52dcd8fa",
   "metadata": {},
   "outputs": [],
   "source": [
    "# Filter the dataframe to a single year 2022\n",
    "df_recall_data = df_recall_data.query(\"Year == '2022' \")"
   ]
  },
  {
   "cell_type": "code",
   "execution_count": 20,
   "id": "e658a363",
   "metadata": {},
   "outputs": [
    {
     "data": {
      "text/plain": [
       "(1050, 13)"
      ]
     },
     "execution_count": 20,
     "metadata": {},
     "output_type": "execute_result"
    }
   ],
   "source": [
    "df_recall_data.shape"
   ]
  },
  {
   "cell_type": "code",
   "execution_count": 21,
   "id": "39392c54",
   "metadata": {},
   "outputs": [
    {
     "data": {
      "image/png": "[encoded data removed]",
      "text/plain": [
       "<Figure size 432x288 with 1 Axes>"
      ]
     },
     "metadata": {
      "needs_background": "light"
     },
     "output_type": "display_data"
    }
   ],
   "source": [
    "# Removing ouliers in the dataset by interquartile range\n",
    "sns.boxplot(\n",
    "    data=df_recall_data, x=\"Potentially_Affected\",\n",
    "    flierprops={\"marker\": \"x\"},\n",
    "    boxprops={\"facecolor\": (.4, .6, .8, .5)},\n",
    ")\n",
    "plt.title('Potentially Affected')\n",
    "plt.xlabel('Potentially Affected')\n",
    "plt.show()"
   ]
  },
  {
   "cell_type": "code",
   "execution_count": 22,
   "id": "28e86ff0",
   "metadata": {},
   "outputs": [],
   "source": [
    "Q1 = df_recall_data['Potentially_Affected'].quantile(0.25)"
   ]
  },
  {
   "cell_type": "code",
   "execution_count": 23,
   "id": "9eb5125e",
   "metadata": {},
   "outputs": [],
   "source": [
    "Q3 = df_recall_data['Potentially_Affected'].quantile(0.75)"
   ]
  },
  {
   "cell_type": "code",
   "execution_count": 24,
   "id": "53359071",
   "metadata": {},
   "outputs": [],
   "source": [
    "IQR = Q3-Q1"
   ]
  },
  {
   "cell_type": "code",
   "execution_count": 25,
   "id": "728cf69c",
   "metadata": {},
   "outputs": [
    {
     "name": "stdout",
     "output_type": "stream",
     "text": [
      "5812.0\n"
     ]
    }
   ],
   "source": [
    "print(IQR)"
   ]
  },
  {
   "cell_type": "code",
   "execution_count": 26,
   "id": "0a09aa64",
   "metadata": {},
   "outputs": [],
   "source": [
    "df_recall_data = df_recall_data[~((df_recall_data['Potentially_Affected'] < (Q1 - 1.5 * IQR)) |(df_recall_data['Potentially_Affected'] > (Q3 + 1.5 * IQR)))]"
   ]
  },
  {
   "cell_type": "code",
   "execution_count": 27,
   "id": "202b6eef",
   "metadata": {},
   "outputs": [
    {
     "data": {
      "text/plain": [
       "(850, 13)"
      ]
     },
     "execution_count": 27,
     "metadata": {},
     "output_type": "execute_result"
    }
   ],
   "source": [
    "df_recall_data.shape"
   ]
  },
  {
   "cell_type": "code",
   "execution_count": 28,
   "id": "26430ba8",
   "metadata": {},
   "outputs": [
    {
     "data": {
      "image/png": "[encoded data removed]",
      "text/plain": [
       "<Figure size 432x288 with 1 Axes>"
      ]
     },
     "metadata": {
      "needs_background": "light"
     },
     "output_type": "display_data"
    }
   ],
   "source": [
    "sns.boxplot(\n",
    "    data=df_recall_data, x=\"Potentially_Affected\",\n",
    "    flierprops={\"marker\": \"x\"},\n",
    "    boxprops={\"facecolor\": (.4, .6, .8, .5)},\n",
    ")\n",
    "plt.title('Potentially Affected')\n",
    "plt.xlabel('Potentially Affected')\n",
    "plt.show()"
   ]
  },
  {
   "cell_type": "code",
   "execution_count": 29,
   "id": "f83faf49",
   "metadata": {},
   "outputs": [],
   "source": [
    "# Group by Recall Type\n",
    "df_group_by_recall = df_recall_data.groupby('Recall_Type')['NHTSA_ID'].count()"
   ]
  },
  {
   "cell_type": "code",
   "execution_count": 30,
   "id": "5917a16e",
   "metadata": {},
   "outputs": [
    {
     "name": "stdout",
     "output_type": "stream",
     "text": [
      "Recall_Type\n",
      "Child Seat      3\n",
      "Equipment      84\n",
      "Tire           13\n",
      "Vehicle       750\n",
      "Name: NHTSA_ID, dtype: int64\n"
     ]
    }
   ],
   "source": [
    "print(df_group_by_recall)"
   ]
  },
  {
   "cell_type": "code",
   "execution_count": 31,
   "id": "3a8c1595",
   "metadata": {},
   "outputs": [
    {
     "data": {
      "image/png": "[encoded data removed]",
      "text/plain": [
       "<Figure size 720x360 with 1 Axes>"
      ]
     },
     "metadata": {
      "needs_background": "light"
     },
     "output_type": "display_data"
    }
   ],
   "source": [
    "# No of Recalls by Type\n",
    "df_recall_data.Recall_Type.value_counts().plot(kind='bar', figsize=(10,5), title = 'Number of Recalls by Type', \n",
    "                                               xlabel = 'Recall Type', ylabel = 'Number of recalls' )\n",
    "plt.show()"
   ]
  },
  {
   "cell_type": "code",
   "execution_count": 32,
   "id": "ffdae891",
   "metadata": {},
   "outputs": [
    {
     "data": {
      "image/png": "[encoded data removed]",
      "text/plain": [
       "<Figure size 720x360 with 1 Axes>"
      ]
     },
     "metadata": {
      "needs_background": "light"
     },
     "output_type": "display_data"
    }
   ],
   "source": [
    "# No of Recalls by Manufacturer\n",
    "df_recall_data.Manufacturer.value_counts().nlargest(10).plot(kind='bar', figsize=(10,5), title = \"Number of Recalls by Top 10 Manufacturer\"\n",
    "                                                            , xlabel = 'Manufacturer', ylabel = 'Number of recalls' )\n",
    "plt.show()"
   ]
  },
  {
   "cell_type": "code",
   "execution_count": 33,
   "id": "501c93a5",
   "metadata": {},
   "outputs": [],
   "source": [
    "# No of Potentially Affected by Type\n",
    "df_group_by_recall_sum_affected = df_recall_data.groupby('Recall_Type')['Potentially_Affected'].sum()"
   ]
  },
  {
   "cell_type": "code",
   "execution_count": 34,
   "id": "f4afce83",
   "metadata": {},
   "outputs": [
    {
     "name": "stdout",
     "output_type": "stream",
     "text": [
      "Recall_Type\n",
      "Child Seat     11471.0\n",
      "Equipment     165401.0\n",
      "Tire           49077.0\n",
      "Vehicle       941188.0\n",
      "Name: Potentially_Affected, dtype: float64\n"
     ]
    }
   ],
   "source": [
    "print(df_group_by_recall_sum_affected)"
   ]
  },
  {
   "cell_type": "code",
   "execution_count": 35,
   "id": "32c20b48",
   "metadata": {},
   "outputs": [
    {
     "data": {
      "image/png": "[encoded data removed]",
      "text/plain": [
       "<Figure size 720x360 with 1 Axes>"
      ]
     },
     "metadata": {
      "needs_background": "light"
     },
     "output_type": "display_data"
    }
   ],
   "source": [
    "df_group_by_recall_sum_affected.plot(kind = 'bar', figsize=(10,5), title = 'No of Potentially Affcted by Type',\n",
    "                                     ylabel = 'No of Potentially Affected', xlabel = 'Recall Type')\n",
    "plt.show()"
   ]
  },
  {
   "cell_type": "code",
   "execution_count": 36,
   "id": "250981fd",
   "metadata": {},
   "outputs": [
    {
     "data": {
      "image/png": "[encoded data removed]",
      "text/plain": [
       "<Figure size 432x288 with 1 Axes>"
      ]
     },
     "metadata": {
      "needs_background": "light"
     },
     "output_type": "display_data"
    }
   ],
   "source": [
    "sns.boxplot(\n",
    "    data=df_recall_data, x=\"Recall_Type\", y = 'Potentially_Affected',\n",
    "    flierprops={\"marker\": \"x\"},\n",
    "    boxprops={\"facecolor\": (.4, .6, .8, .5)},\n",
    ")\n",
    "plt.title('Potentially Affected')\n",
    "plt.ylabel('Potentially Affected')\n",
    "plt.xlabel('Recall Type')\n",
    "plt.show()"
   ]
  },
  {
   "cell_type": "code",
   "execution_count": 37,
   "id": "ffc25443",
   "metadata": {},
   "outputs": [],
   "source": [
    "df_group_by_manufacturer_sum_affected = df_recall_data.groupby('Manufacturer')['Potentially_Affected'].sum()"
   ]
  },
  {
   "cell_type": "code",
   "execution_count": 38,
   "id": "3bddc55a",
   "metadata": {},
   "outputs": [
    {
     "name": "stdout",
     "output_type": "stream",
     "text": [
      "Manufacturer\n",
      "Volkswagen Group of America, Inc.    75027.0\n",
      "Chrysler (FCA US, LLC)               47631.0\n",
      "Ford Motor Company                   46796.0\n",
      "Navistar, Inc.                       46403.0\n",
      "Mercedes-Benz USA, LLC               37520.0\n",
      "Daimler Trucks North America, LLC    36283.0\n",
      "BMW of North America, LLC            36218.0\n",
      "General Motors, LLC                  35319.0\n",
      "Forest River, Inc.                   35298.0\n",
      "Nissan North America, Inc.           30930.0\n",
      "Name: Potentially_Affected, dtype: float64\n"
     ]
    }
   ],
   "source": [
    "print(df_group_by_manufacturer_sum_affected.nlargest(10))"
   ]
  },
  {
   "cell_type": "code",
   "execution_count": 39,
   "id": "b83af888",
   "metadata": {},
   "outputs": [
    {
     "data": {
      "image/png": "[encoded data removed]",
      "text/plain": [
       "<Figure size 720x360 with 1 Axes>"
      ]
     },
     "metadata": {
      "needs_background": "light"
     },
     "output_type": "display_data"
    }
   ],
   "source": [
    "df_group_by_manufacturer_sum_affected.nlargest(10).plot(kind='bar', figsize=(10,5), \n",
    "                                                        title = 'No of Potentially Affected by Manufacturer (Top 10)',\n",
    "                                                        xlabel = 'Manufacturer', ylabel = 'No of Potentially Affected')\n",
    "plt.show()"
   ]
  },
  {
   "cell_type": "code",
   "execution_count": 94,
   "id": "2fce045c",
   "metadata": {},
   "outputs": [],
   "source": [
    "import nltk\n",
    "from nltk.tokenize import word_tokenize\n",
    "from nltk.corpus import stopwords\n",
    "from nltk import FreqDist\n",
    "from nltk.tag import pos_tag\n",
    "from nltk.stem import WordNetLemmatizer\n",
    "import string"
   ]
  },
  {
   "cell_type": "code",
   "execution_count": 95,
   "id": "4e799c11",
   "metadata": {},
   "outputs": [],
   "source": [
    "# Example data\n",
    "consequence_data = df_recall_data['Consequence_Summary']\n",
    "\n",
    "# Tokenization\n",
    "tokenized_consequences = [word_tokenize(consequence) for consequence in consequence_data]\n",
    "\n",
    "# Remove stop words\n",
    "stop_words = set(stopwords.words('english'))\n",
    "punctuation = set(string.punctuation)\n",
    "lemmatizer = WordNetLemmatizer()\n",
    "\n",
    "filtered_consequences = [\n",
    "    [lemmatizer.lemmatize(word.lower()) for word, tag in pos_tag(consequence)\n",
    "     if word.lower() not in stop_words and tag != 'VB' and word.lower() not in punctuation]\n",
    "    for consequence in tokenized_consequences\n",
    "]"
   ]
  },
  {
   "cell_type": "code",
   "execution_count": 96,
   "id": "c45bc622",
   "metadata": {},
   "outputs": [],
   "source": [
    "# Flatten the list of tokenized consequences\n",
    "all_words = [word for consequence in filtered_consequences for word in consequence]\n",
    "\n",
    "# Calculate word frequencies\n",
    "freq_dist = FreqDist(all_words)\n",
    "most_common = freq_dist.most_common(20)\n",
    "consequences = [consequence[0] for consequence in most_common]\n",
    "frequencies = [freq[1] for freq in most_common]"
   ]
  },
  {
   "cell_type": "code",
   "execution_count": 97,
   "id": "dd54a316",
   "metadata": {},
   "outputs": [
    {
     "data": {
      "image/png": "[encoded data removed]",
      "text/plain": [
       "<Figure size 432x288 with 1 Axes>"
      ]
     },
     "metadata": {
      "needs_background": "light"
     },
     "output_type": "display_data"
    }
   ],
   "source": [
    "# Create a bar plot\n",
    "plt.bar(consequences, frequencies)\n",
    "plt.xlabel('Consequences')\n",
    "plt.ylabel('Frequency')\n",
    "plt.title('Top 20 Most Common Words')\n",
    "plt.xticks(rotation=90)  # Rotate x-axis labels for better readability\n",
    "plt.show()"
   ]
  },
  {
   "cell_type": "code",
   "execution_count": null,
   "id": "21abd2de",
   "metadata": {},
   "outputs": [],
   "source": []
  }
 ],
 "metadata": {
  "kernelspec": {
   "display_name": "Python 3 (ipykernel)",
   "language": "python",
   "name": "python3"
  },
  "language_info": {
   "codemirror_mode": {
    "name": "ipython",
    "version": 3
   },
   "file_extension": ".py",
   "mimetype": "text/x-python",
   "name": "python",
   "nbconvert_exporter": "python",
   "pygments_lexer": "ipython3",
   "version": "3.9.7"
  }
 },
 "nbformat": 4,
 "nbformat_minor": 5
}
